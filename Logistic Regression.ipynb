{
 "cells": [
  {
   "cell_type": "markdown",
   "id": "2bf19e92-d025-4242-8c3e-7e7e161fb756",
   "metadata": {},
   "source": [
    "**<span style=\"font-size:17px\">Logistic Regression <span>**"
   ]
  },
  {
   "cell_type": "markdown",
   "id": "6ee12f70-9925-462b-855f-2effde3cc480",
   "metadata": {},
   "source": [
    "#A supervised ML algorithm used for Classification Tasks <br>\n",
    "#Use Sigmoid Fuction to map Predict Binary Value(0 or 1,yes or no,right or wrong)<br>\n",
    "**Application:**<br>\n",
    "<span style=\"font-size:17px\">#1. Medical:i)Disease Diagonisis (P? or n?) ii)Readmission Risk<br>\n",
    "#2. Finance and Banking:i)Credit Scoling ii)Fraud Detection <br>\n",
    "#3. Marketing:i)Email Spam Detection(Spam or Not) ii)Customer Churn Prediction iii)Conversion Prediction <br>\n",
    "#4. Business Analytics:i)Employee Attrition(likely to leave or not) ii)Sales Forecasting(will buy or not)<br>\n",
    "#5. Search Engines and Recommender Systems:i)Click-Through Rate(CTR) predictions ii)Recommendation Acceptance<br>\n",
    "#6. Machine Learning: i)Binary Classifier ii)Multiclass Extensions<br>\n",
    "#7. Legal and Criminal Justice: i)Recidivism Predictions(criminal is likely to reoffend or not) ii)Case Outcome Predictions(conviction or acquittal?)\n",
    "</span>"
   ]
  },
  {
   "cell_type": "code",
   "execution_count": null,
   "id": "750fb32f-2fbd-421b-9d58-caabed7d49a1",
   "metadata": {},
   "outputs": [],
   "source": []
  }
 ],
 "metadata": {
  "kernelspec": {
   "display_name": "Python [conda env:base] *",
   "language": "python",
   "name": "conda-base-py"
  },
  "language_info": {
   "codemirror_mode": {
    "name": "ipython",
    "version": 3
   },
   "file_extension": ".py",
   "mimetype": "text/x-python",
   "name": "python",
   "nbconvert_exporter": "python",
   "pygments_lexer": "ipython3",
   "version": "3.12.7"
  }
 },
 "nbformat": 4,
 "nbformat_minor": 5
}
